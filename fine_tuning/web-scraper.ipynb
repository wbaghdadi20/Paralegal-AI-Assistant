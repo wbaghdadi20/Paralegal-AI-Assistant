{
 "cells": [
  {
   "cell_type": "code",
   "execution_count": 37,
   "metadata": {},
   "outputs": [],
   "source": [
    "import os\n",
    "from pathlib import Path\n",
    "import re\n",
    "import requests\n",
    "from bs4 import BeautifulSoup, NavigableString, Tag\n",
    "from collections import deque\n",
    "from dotenv import load_dotenv"
   ]
  },
  {
   "cell_type": "code",
   "execution_count": 38,
   "metadata": {},
   "outputs": [],
   "source": [
    "def find_project_root(current_directory, marker):\n",
    "    current_directory = Path(current_directory).absolute()\n",
    "    for parent in current_directory.parents:\n",
    "        if (parent / marker).exists():\n",
    "            return parent\n",
    "    raise FileNotFoundError(f\"Project root with {marker} not found\")\n",
    "\n",
    "current_directory = Path.cwd()\n",
    "project_root = find_project_root(current_directory, '.git')\n",
    "\n",
    "# Load the environment variables from the .env file\n",
    "env_path = project_root / '.env'\n",
    "load_dotenv(dotenv_path=env_path)\n",
    "PATH_TO_URLS = current_directory / os.getenv(\"PATH_TO_URLS\")\n",
    "\n",
    "base_url = \"https://www.uscis.gov\"\n",
    "output_dir = \"new_uscis_data\"\n",
    "visited_urls = set()"
   ]
  },
  {
   "cell_type": "code",
   "execution_count": 39,
   "metadata": {},
   "outputs": [],
   "source": [
    "# Function to read URLs from the file\n",
    "def read_urls_from_file():\n",
    "    return deque(line.strip() for line in open(PATH_TO_URLS, 'r'))\n",
    "    \n",
    "url_queue = read_urls_from_file()"
   ]
  },
  {
   "cell_type": "code",
   "execution_count": 40,
   "metadata": {},
   "outputs": [],
   "source": [
    "# Function to save content to a file\n",
    "def save_content(content, path):\n",
    "    os.makedirs(os.path.dirname(path), exist_ok=True)\n",
    "    with open(path, 'w', encoding='utf-8') as file:\n",
    "        file.write(content)"
   ]
  },
  {
   "cell_type": "code",
   "execution_count": 41,
   "metadata": {},
   "outputs": [],
   "source": [
    "# Function to append new URLs to the file\n",
    "def append_new_url(url):\n",
    "    with open(PATH_TO_URLS, 'a') as file:\n",
    "        file.write(url + '\\n')"
   ]
  },
  {
   "cell_type": "code",
   "execution_count": 42,
   "metadata": {},
   "outputs": [],
   "source": [
    "def sanitize_filename(part):\n",
    "    # Remove or replace characters that are not allowed in filenames\n",
    "    part = re.sub(r'[<>:\"/\\\\|?*]', '_', part)  # Replace these characters with underscore\n",
    "    part = re.sub(r'\\s+', '_', part)  # Replace spaces with underscores\n",
    "    return part"
   ]
  },
  {
   "cell_type": "code",
   "execution_count": 43,
   "metadata": {},
   "outputs": [],
   "source": [
    "# Function to recursively extract text from elements as they appear on the web page\n",
    "def extract_text(element, buffer, depth=0):\n",
    "    if isinstance(element, NavigableString):\n",
    "        stripped_text = str(element).strip()\n",
    "        if stripped_text:\n",
    "            buffer.append(\" \" * (depth * 2) + stripped_text)\n",
    "    elif isinstance(element, Tag):\n",
    "        # add new line after headers\n",
    "        if element.name in ['h1', 'h2', 'h3', 'h4', 'h5']:\n",
    "            buffer.append('\\n')\n",
    "\n",
    "        # format list items nicely\n",
    "        if element.name == 'li':\n",
    "            buffer.append(\"\\n\" + \" \" * (depth * 2) + \"- \")\n",
    "\n",
    "        # get links from anchor tags and add them to url_queue and new urls found\n",
    "        if element.name == 'a' and 'href' in element.attrs:\n",
    "            link_text = element.get_text(strip=True)\n",
    "            full_url = element['href']\n",
    "            buffer.append(link_text + f\" [URL: {full_url}]\")\n",
    "\n",
    "            if 'http' not in full_url:\n",
    "                full_url = base_url + full_url\n",
    "\n",
    "            if full_url.startswith(base_url) and not full_url.endswith('.pdf'):\n",
    "                if full_url not in visited_urls and full_url not in url_queue:\n",
    "                    url_queue.append(full_url)\n",
    "                    append_new_url(full_url)\n",
    "                    print(f\"New URL found {full_url}\")\n",
    "\n",
    "        # format tables and their entries nicely\n",
    "        if element.name == 'table':\n",
    "            buffer.append('\\n' + \" \" * (depth * 2) + \"Table Start:\")\n",
    "            for row in element.find_all('tr'):\n",
    "                row_buffer = []\n",
    "                for cell in row.find_all(['td', 'th']):\n",
    "                    cell_text = cell.get_text(strip=True, separator=' ').replace('\\n', ' ')\n",
    "                    row_buffer.append(cell_text)\n",
    "                buffer.append(\"\\n\" + \" \" * (depth * 4) + ' | '.join(row_buffer) + ' |')\n",
    "            buffer.append(\"\\n\" + \" \" * (depth * 2) + \"Table End.\\n\")\n",
    "\n",
    "        # extract rest of html elements\n",
    "        else:\n",
    "            for child in element.children:\n",
    "                extract_text(child, buffer, depth + (1 if element.name in ['ul', 'ol'] else 0))\n",
    "\n",
    "        if element.name in ['p', 'div', 'article', 'section']:\n",
    "            buffer.append('\\n')"
   ]
  },
  {
   "cell_type": "code",
   "execution_count": 44,
   "metadata": {},
   "outputs": [],
   "source": [
    "# Function to scrape a page\n",
    "def scrape_page(url):\n",
    "    if url in visited_urls:\n",
    "        print(f\"Already visited {url}\")\n",
    "        return\n",
    "    \n",
    "    print(f\"Scraping {url}\")\n",
    "    visited_urls.add(url)\n",
    "\n",
    "    try:\n",
    "        response = requests.get(url)\n",
    "        if response.status_code != 200:\n",
    "            print(f\"Failed to fetch {url} with status code {response.status_code}\")\n",
    "            return\n",
    "    except requests.exceptions.RequestException as e:  # This catches all requests-based exceptions\n",
    "        print(f\"Failed to connect to {url}.\")\n",
    "        return\n",
    "\n",
    "    soup = BeautifulSoup(response.content, 'html.parser')\n",
    "    main_container = soup.find('div', class_='container container--main')\n",
    "    sidebar = soup.find('ul', class_=\"menu--main leftnav-menu\")\n",
    "\n",
    "    if url.endswith('.pdf'):\n",
    "        return\n",
    "\n",
    "    if main_container:\n",
    "        text_segments = []\n",
    "        extract_text(main_container, text_segments)\n",
    "        text_content = ''.join(text_segments)\n",
    "\n",
    "        # Adjust URL path for saving\n",
    "        path_segments = url.split('/')\n",
    "        sanitized_path_segments = [sanitize_filename(part) for part in path_segments[2:]] if len(path_segments) > 3 else [sanitize_filename(path_segments[-1])]\n",
    "        text_path = os.path.join(output_dir, *sanitized_path_segments) + \".txt\"\n",
    "        save_content(text_content, text_path)\n",
    "\n",
    "    elif sidebar:\n",
    "        links = sidebar.find_all('a', href=True)\n",
    "        for link in links:\n",
    "            full_url = link['href']\n",
    "\n",
    "            if 'http' not in full_url:\n",
    "                full_url = base_url + full_url\n",
    "\n",
    "            if full_url.startswith(base_url) and not full_url.endswith('.pdf'):                \n",
    "                if full_url not in visited_urls and full_url not in url_queue:\n",
    "                    url_queue.append(full_url)\n",
    "                    print(f\"New URL found {full_url}\")\n",
    "                    append_new_url()\n",
    "    else:\n",
    "        print(f\"No main or sidebar container found in {url}\")"
   ]
  },
  {
   "cell_type": "code",
   "execution_count": null,
   "metadata": {},
   "outputs": [],
   "source": [
    "while url_queue:\n",
    "    scrape_page(url_queue.popleft())"
   ]
  }
 ],
 "metadata": {
  "kernelspec": {
   "display_name": "Python 3",
   "language": "python",
   "name": "python3"
  },
  "language_info": {
   "codemirror_mode": {
    "name": "ipython",
    "version": 3
   },
   "file_extension": ".py",
   "mimetype": "text/x-python",
   "name": "python",
   "nbconvert_exporter": "python",
   "pygments_lexer": "ipython3",
   "version": "3.11.9"
  }
 },
 "nbformat": 4,
 "nbformat_minor": 2
}
