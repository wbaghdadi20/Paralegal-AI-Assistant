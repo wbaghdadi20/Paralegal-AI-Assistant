{
 "cells": [
  {
   "cell_type": "code",
   "execution_count": 127,
   "metadata": {},
   "outputs": [],
   "source": [
    "import os\n",
    "from pathlib import Path\n",
    "import json\n",
    "import os\n",
    "import requests\n",
    "from bs4 import BeautifulSoup, NavigableString, Tag\n",
    "from urllib.parse import urljoin"
   ]
  },
  {
   "cell_type": "code",
   "execution_count": 128,
   "metadata": {},
   "outputs": [],
   "source": [
    "def find_project_root(current_directory, marker):\n",
    "    current_directory = Path(current_directory).absolute()\n",
    "    for parent in current_directory.parents:\n",
    "        if (parent / marker).exists():\n",
    "            return parent\n",
    "    raise FileNotFoundError(f\"Project root with {marker} not found\")\n",
    "\n",
    "current_directory = Path.cwd()\n",
    "project_root = find_project_root(current_directory, '.git')\n",
    "\n",
    "# Load the environment variables from the .env file\n",
    "env_path = project_root / '.env'\n",
    "from dotenv import load_dotenv\n",
    "load_dotenv(dotenv_path=env_path)\n",
    "PATH_TO_URLS = current_directory / os.getenv(\"PATH_TO_URLS\")\n",
    "\n",
    "base_url = \"https://www.uscis.gov\"\n",
    "output_dir = \"uscis_data\""
   ]
  },
  {
   "cell_type": "code",
   "execution_count": 129,
   "metadata": {},
   "outputs": [],
   "source": [
    "# Function to read URLs from the file\n",
    "def read_urls_from_file():\n",
    "    with open(PATH_TO_URLS, 'r') as file:\n",
    "        return [line.strip() for line in file.readlines()]"
   ]
  },
  {
   "cell_type": "code",
   "execution_count": 130,
   "metadata": {},
   "outputs": [],
   "source": [
    "# Function to save content to a file\n",
    "def save_content(content, path):\n",
    "    os.makedirs(os.path.dirname(path), exist_ok=True)\n",
    "    with open(path, 'w', encoding='utf-8') as file:\n",
    "        file.write(content)"
   ]
  },
  {
   "cell_type": "code",
   "execution_count": 131,
   "metadata": {},
   "outputs": [],
   "source": [
    "new_urls = set()\n",
    "\n",
    "def save_new_urls():\n",
    "    with open(\"urls.txt\", \"a\") as f:\n",
    "        f.write(\"\\n\")\n",
    "        for url in new_urls:\n",
    "            f.write(url + \"\\n\")"
   ]
  },
  {
   "cell_type": "code",
   "execution_count": 132,
   "metadata": {},
   "outputs": [],
   "source": [
    "# Function to format and save table contents to a JSON file\n",
    "def save_table_as_json(table, path):\n",
    "    headers = [header.get_text(strip=True) for header in table.find_all('th')]\n",
    "    rows = []\n",
    "\n",
    "    for row in table.find_all('tr'):\n",
    "        cells = row.find_all(['td', 'th'])\n",
    "        if not cells:\n",
    "            continue\n",
    "\n",
    "        row_data = {}\n",
    "        for index, cell in enumerate(cells):\n",
    "            # For cells with unordered lists, convert them into a list of texts\n",
    "            if cell.find('ul'):\n",
    "                cell_data = [li.get_text(strip=True) for li in cell.find_all('li')]\n",
    "            else:\n",
    "                cell_data = cell.get_text(strip=True)\n",
    "            \n",
    "            header = headers[index] if index < len(headers) else f\"Column {index}\"\n",
    "            row_data[header] = cell_data\n",
    "\n",
    "        rows.append(row_data)\n",
    "\n",
    "    # Save the rows as a JSON file\n",
    "    with open(path, 'w', encoding='utf-8') as file:\n",
    "        json.dump(rows, file, indent=4)"
   ]
  },
  {
   "cell_type": "code",
   "execution_count": 133,
   "metadata": {},
   "outputs": [],
   "source": [
    "# Function to recursively extract text from elements as they appear on the web page\n",
    "def extract_text(element, buffer, depth=0):\n",
    "    if isinstance(element, NavigableString):\n",
    "        stripped_text = str(element).strip()\n",
    "        if stripped_text:  # Avoid adding empty strings\n",
    "            buffer.append(\" \" * (depth * 2) + stripped_text)  # Indent text based on depth for better readability\n",
    "    elif isinstance(element, Tag):\n",
    "        if element.name in ['h1', 'h2', 'h3', 'h4', 'h5']:\n",
    "            buffer.append('\\n')  # Prepend newline for headers\n",
    "\n",
    "        if element.name == 'li':\n",
    "            buffer.append(\"\\n\" + \" \" * (depth * 2) + \"- \")  # Indent list items based on depth\n",
    "\n",
    "        # Only handle anchor tags for URL extraction\n",
    "        if element.name == 'a' and 'href' in element.attrs:\n",
    "            link_text = element.get_text(strip=True)\n",
    "            buffer.append(link_text)\n",
    "            # Append URL for future reference\n",
    "            new_urls.add(urljoin(base_url, element['href']))\n",
    "\n",
    "        # Recursive call for other tags\n",
    "        else:\n",
    "            for child in element.children:\n",
    "                extract_text(child, buffer, depth + (1 if element.name in ['ul', 'ol'] else 0))\n",
    "\n",
    "        if element.name in ['p', 'div', 'h1', 'h2', 'h3', 'h4', 'h5', 'article', 'section']:\n",
    "            buffer.append('\\n')\n"
   ]
  },
  {
   "cell_type": "code",
   "execution_count": 134,
   "metadata": {},
   "outputs": [],
   "source": [
    "# Function to scrape a page\n",
    "def scrape_page(url_suffix, base_url, output_dir):\n",
    "    url = urljoin(base_url, url_suffix)\n",
    "    response = requests.get(url)\n",
    "    if response.status_code != 200:\n",
    "        print(f\"Failed to fetch {url}\")\n",
    "        return\n",
    "\n",
    "    soup = BeautifulSoup(response.content, 'html.parser')\n",
    "    main_container = soup.find('div', class_='container container--main')\n",
    "\n",
    "    if main_container:\n",
    "        text_segments = []\n",
    "        extract_text(main_container, text_segments)  # Recursively extract text\n",
    "        text_content = ''.join(text_segments)\n",
    "\n",
    "        # Save the extracted text\n",
    "        path_segments = url_suffix.strip('/').split('/')\n",
    "        text_path = os.path.join(output_dir, *path_segments[:-1], f\"{path_segments[-1]}.txt\")\n",
    "        save_content(text_content, text_path)\n",
    "\n",
    "        # Process and save tables as JSON (Unchanged from previous implementations)\n",
    "        tables = main_container.find_all('table')\n",
    "        for i, table in enumerate(tables):\n",
    "            json_table_path = os.path.join(output_dir, *path_segments[:-1], f\"{path_segments[-1]}_table_{i}.json\")\n",
    "            save_table_as_json(table, json_table_path)\n",
    "    else:\n",
    "        print(f\"No main container found in {url}\")"
   ]
  },
  {
   "cell_type": "code",
   "execution_count": 135,
   "metadata": {},
   "outputs": [],
   "source": [
    "urls = read_urls_from_file()\n",
    "\n",
    "for url_suffix in urls[:10]:\n",
    "    scrape_page(url_suffix, base_url, output_dir)"
   ]
  },
  {
   "cell_type": "markdown",
   "metadata": {},
   "source": [
    "TODO:\n",
    "- Dont extract tables in txt files\n",
    "- fix table format in JSON files\n",
    "- use full url for all instead of base and suffix (new urls might have different domain)\n",
    "- queue or some way to visit new urls at runtime"
   ]
  }
 ],
 "metadata": {
  "kernelspec": {
   "display_name": "Python 3",
   "language": "python",
   "name": "python3"
  },
  "language_info": {
   "codemirror_mode": {
    "name": "ipython",
    "version": 3
   },
   "file_extension": ".py",
   "mimetype": "text/x-python",
   "name": "python",
   "nbconvert_exporter": "python",
   "pygments_lexer": "ipython3",
   "version": "3.11.9"
  }
 },
 "nbformat": 4,
 "nbformat_minor": 2
}
