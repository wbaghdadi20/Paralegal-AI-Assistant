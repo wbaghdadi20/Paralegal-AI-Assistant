{
 "cells": [
  {
   "cell_type": "markdown",
   "metadata": {},
   "source": [
    "# Chatting With Fine-Tuned Model"
   ]
  },
  {
   "cell_type": "code",
   "execution_count": 2,
   "metadata": {},
   "outputs": [],
   "source": [
    "# userPrompt = input(\"User Prompt: \")\n",
    "\n",
    "# stream = client.chat.completions.create(\n",
    "#     model=\"ft:gpt-3.5-turbo-0125:personal::8yogN9zm\",\n",
    "#     messages=[\n",
    "#         {\"role\": \"system\", \"content\": systemPrompt},\n",
    "#         {\"role\": \"user\", \"content\": userPrompt}\n",
    "#     ],\n",
    "#     stream=True,\n",
    "# )\n",
    "# print(\"GPT Response:\\n\")\n",
    "# for chunk in stream:\n",
    "#     print(chunk.choices[0].delta.content or \"\", end=\"\")"
   ]
  },
  {
   "cell_type": "markdown",
   "metadata": {},
   "source": [
    "# Automate QnA"
   ]
  },
  {
   "cell_type": "markdown",
   "metadata": {},
   "source": [
    "##### Get .env file regardless of which directory you're in"
   ]
  },
  {
   "cell_type": "code",
   "execution_count": 2,
   "metadata": {},
   "outputs": [
    {
     "name": "stdout",
     "output_type": "stream",
     "text": [
      "sk-proj-nyQmuRs6rAhBh2jpxRCTT3BlbkFJCJx2zZ7yAvDKF13IcySw\n"
     ]
    }
   ],
   "source": [
    "from pathlib import Path\n",
    "import os\n",
    "import re\n",
    "import random\n",
    "from dotenv import load_dotenv\n",
    "from openai import OpenAI\n",
    "import json\n",
    "from collections import defaultdict\n",
    "\n",
    "\n",
    "def find_project_root(current_directory, marker):\n",
    "    current_directory = Path(current_directory).absolute()\n",
    "    for parent in current_directory.parents:\n",
    "        if (parent / marker).exists():\n",
    "            return parent\n",
    "    raise FileNotFoundError(f\"Project root with {marker} not found\")\n",
    "\n",
    "current_directory = Path.cwd()\n",
    "project_root = find_project_root(current_directory, '.git')\n",
    "\n",
    "# Load the environment variables from the .env file\n",
    "env_path = project_root / '.env'\n",
    "load_dotenv(dotenv_path=env_path)\n",
    "\n",
    "client = OpenAI() # uses Jinyue's GPT-4 model\n",
    "print(client.api_key)"
   ]
  },
  {
   "cell_type": "code",
   "execution_count": 2,
   "metadata": {},
   "outputs": [],
   "source": [
    "def load_single_line_string_from_file(file_path, delim=' '):\n",
    "    with open(file_path, 'r', encoding='utf-8') as file:\n",
    "        return file.read().replace('\\n', delim)\n",
    "    \n",
    "system_prompt_expert = load_single_line_string_from_file('immigration_expert_model_prompt.txt')\n",
    "system_prompt_query = load_single_line_string_from_file('immigration_query_model_prompt.txt')\n",
    "system_prompt = load_single_line_string_from_file('system_prompt.txt')"
   ]
  },
  {
   "cell_type": "code",
   "execution_count": 5,
   "metadata": {},
   "outputs": [],
   "source": [
    "def format_content_as_json(question, answer, filename):\n",
    "    directory = \"JSONL\"\n",
    "    if not os.path.exists(directory):\n",
    "        os.makedirs(directory)\n",
    "\n",
    "    data = {\n",
    "        \"messages\": [\n",
    "            {\"role\": \"system\", \"content\": system_prompt},\n",
    "            {\"role\": \"user\", \"content\": question},\n",
    "            {\"role\": \"assistant\", \"content\": answer}\n",
    "        ]\n",
    "    }\n",
    "\n",
    "    file_path = os.path.join(directory, filename)\n",
    "    \n",
    "    with open(file_path, 'a', encoding='utf-8') as f:\n",
    "        json.dump(data, f, ensure_ascii=False, indent=0)\n",
    "        f.write('\\n')"
   ]
  },
  {
   "cell_type": "code",
   "execution_count": 6,
   "metadata": {},
   "outputs": [],
   "source": [
    "def qna(file_content):\n",
    "    questions = client.chat.completions.create(\n",
    "        messages=[\n",
    "            {\"role\": \"system\", \"content\": system_prompt_query},\n",
    "            {\"role\": \"user\", \"content\": file_content}\n",
    "        ],\n",
    "        model=\"gpt-4o\"\n",
    "    )\n",
    "    questions = questions.choices[0].message.content.replace('\\n', ' ').split('###')[1:]\n",
    "\n",
    "    answers = []\n",
    "    for question in questions:\n",
    "        answer = client.chat.completions.create(\n",
    "            messages=[\n",
    "                {\"role\": \"system\", \"content\": system_prompt_expert},\n",
    "                {\"role\": \"user\", \"content\": question}\n",
    "            ],\n",
    "            model=\"gpt-4o\"\n",
    "        )\n",
    "        answers.append(answer.choices[0].message.content.replace('\\n', ' '))\n",
    "\n",
    "    return questions, answers"
   ]
  },
  {
   "cell_type": "code",
   "execution_count": 7,
   "metadata": {},
   "outputs": [],
   "source": [
    "def explore_directory(directory):\n",
    "    i = 1\n",
    "    for dirpath, _, filenames in os.walk(directory):\n",
    "        for filename in filenames:\n",
    "            if i <= 186:\n",
    "                i += 1\n",
    "                continue\n",
    "            full_path = os.path.join(dirpath, filename)\n",
    "            file_content = load_single_line_string_from_file(full_path)\n",
    "            questions, answers = qna(file_content)\n",
    "            for question, answer in zip(questions, answers):\n",
    "                format_content_as_json(question, answer, re.sub(r'\\.txt$', '.jsonl', filename))\n",
    "            \n",
    "explore_directory('data')"
   ]
  },
  {
   "cell_type": "code",
   "execution_count": 27,
   "metadata": {},
   "outputs": [],
   "source": [
    "def format_error_check(data, filename):\n",
    "    # Format error checks\n",
    "    format_errors = defaultdict(int)\n",
    "\n",
    "    for ex in data:\n",
    "        if not isinstance(ex, dict):\n",
    "            format_errors[\"data_type\"] += 1\n",
    "            continue\n",
    "            \n",
    "        messages = ex.get(\"messages\", None)\n",
    "        if not messages:\n",
    "            format_errors[\"missing_messages_list\"] += 1\n",
    "            continue\n",
    "            \n",
    "        for message in messages:\n",
    "            if \"role\" not in message or \"content\" not in message:\n",
    "                format_errors[\"message_missing_key\"] += 1\n",
    "            \n",
    "            if any(k not in (\"role\", \"content\", \"name\", \"function_call\", \"weight\") for k in message):\n",
    "                format_errors[\"message_unrecognized_key\"] += 1\n",
    "            \n",
    "            if message.get(\"role\", None) not in (\"system\", \"user\", \"assistant\", \"function\"):\n",
    "                format_errors[\"unrecognized_role\"] += 1\n",
    "                \n",
    "            content = message.get(\"content\", None)\n",
    "            function_call = message.get(\"function_call\", None)\n",
    "            \n",
    "            if (not content and not function_call) or not isinstance(content, str):\n",
    "                format_errors[\"missing_content\"] += 1\n",
    "        \n",
    "        if not any(message.get(\"role\", None) == \"assistant\" for message in messages):\n",
    "            format_errors[\"example_missing_assistant_message\"] += 1\n",
    "\n",
    "    if format_errors:\n",
    "        print(f\"Found errors in {filename}:\")\n",
    "        for k, v in format_errors.items():\n",
    "            print(f\"{k}: {v}\")\n",
    "            quit()"
   ]
  },
  {
   "cell_type": "code",
   "execution_count": 26,
   "metadata": {},
   "outputs": [],
   "source": [
    "def load_JSON(filename):\n",
    "    with open(filename, 'r', encoding='utf-8') as f:\n",
    "        data = [json.loads(line) for line in f]\n",
    "\n",
    "    format_error_check(data, filename)"
   ]
  },
  {
   "cell_type": "code",
   "execution_count": 10,
   "metadata": {},
   "outputs": [],
   "source": [
    "for dirpath, _, filenames in os.walk('JSONL'):\n",
    "    for filename in filenames:\n",
    "        full_path = os.path.join(dirpath, filename)\n",
    "\n",
    "        # read file on a snigle line and format each JSON object on one line\n",
    "        single_line_jsonl = load_single_line_string_from_file(full_path, delim='').replace('}{', '}\\n{')\n",
    "        \n",
    "        with open(full_path, 'w', encoding='utf-8') as f:\n",
    "            f.write(single_line_jsonl)\n",
    "\n",
    "        load_JSON(full_path)"
   ]
  },
  {
   "cell_type": "code",
   "execution_count": 11,
   "metadata": {},
   "outputs": [],
   "source": [
    "all_files = []\n",
    "output_dir = 'Training-Files'\n",
    "os.makedirs(output_dir, exist_ok=True)\n",
    "\n",
    "for dirpath, _, filenames in os.walk('JSONL'):\n",
    "    for filename in filenames:\n",
    "        full_path = os.path.join(dirpath, filename)\n",
    "        all_files.append(full_path)\n",
    "\n",
    "# Process files in batches of 20\n",
    "for i in range(0, len(all_files), 20):\n",
    "    batch_files = all_files[i:i + 20]\n",
    "    combined_content = ''\n",
    "    \n",
    "    for file_path in batch_files:\n",
    "        single_line_jsonl = load_single_line_string_from_file(file_path, delim='').replace('}{', '}\\n{')\n",
    "        combined_content += single_line_jsonl + '\\n'\n",
    "        load_JSON(file_path)\n",
    "\n",
    "    start_index = i + 1\n",
    "    end_index = i + len(batch_files)\n",
    "    output_file_name = f\"{output_dir}/{start_index}-{end_index}.jsonl\"\n",
    "    with open(output_file_name, 'w', encoding='utf-8') as f:\n",
    "        f.write(combined_content)"
   ]
  },
  {
   "cell_type": "code",
   "execution_count": 3,
   "metadata": {},
   "outputs": [],
   "source": [
    "all_filepaths = []\n",
    "\n",
    "for dirpath, _, filenames in os.walk('Training-Files'):\n",
    "    for filename in filenames:\n",
    "        all_filepaths.append(os.path.join(dirpath, filename))"
   ]
  },
  {
   "cell_type": "code",
   "execution_count": 4,
   "metadata": {},
   "outputs": [
    {
     "name": "stdout",
     "output_type": "stream",
     "text": [
      "22\n"
     ]
    }
   ],
   "source": [
    "print(len(all_filepaths))"
   ]
  },
  {
   "cell_type": "code",
   "execution_count": 31,
   "metadata": {},
   "outputs": [],
   "source": [
    "class FineTuningManager:\n",
    "    def __init__(self, client, id_file='id_counter.txt'):\n",
    "        self.client = client\n",
    "        self.id_file = id_file\n",
    "        self._id_counter = self._load_id()\n",
    "        self.output_dir = 'Training Data Split'\n",
    "        os.makedirs(self.output_dir, exist_ok=True)\n",
    "\n",
    "    def _load_id(self):\n",
    "        if os.path.exists(self.id_file):\n",
    "            with open(self.id_file, 'r') as file:\n",
    "                return int(file.read().strip())\n",
    "        else:\n",
    "            return 0\n",
    "\n",
    "    def _save_id(self):\n",
    "        with open(self.id_file, 'w') as file:\n",
    "            file.write(str(self._id_counter))\n",
    "\n",
    "    def _increment_id(self):\n",
    "        self._id_counter += 1\n",
    "        self._save_id()\n",
    "\n",
    "    def _get_output_path(self, base_name):\n",
    "        return os.path.join(self.output_dir, f\"{base_name}-{self._id_counter}.jsonl\")\n",
    "\n",
    "    def _concatenate_files(self, filepaths, output_path):\n",
    "        with open(output_path, 'wb') as outfile:\n",
    "            for filepath in filepaths:\n",
    "                with open(filepath, 'rb') as infile:\n",
    "                    outfile.write(infile.read())\n",
    "\n",
    "    def fine_tune_model(self, all_filepaths, split_ratio=(0.7, 0.3), hyperparams=None):\n",
    "        \"\"\"\n",
    "        Fine-tune a model with the given split ratio and hyperparameters.\n",
    "\n",
    "        Parameters:\n",
    "        - all_filepaths: List of file paths to be used for training and validation.\n",
    "        - split_ratio: Tuple specifying the training and validation split ratio (default is (0.7, 0.3)).\n",
    "        - hyperparams: Dictionary containing hyperparameters such as n_epochs, learning_rate_multiplier, and batch_size (default is None).\n",
    "\n",
    "        Returns:\n",
    "        - The response from the fine-tuning job creation.\n",
    "        \"\"\"\n",
    "        self._increment_id()\n",
    "\n",
    "        # Randomize the order of all_filepaths\n",
    "        random.shuffle(all_filepaths)\n",
    "\n",
    "        # Calculate the number of training and validation files\n",
    "        num_files = len(all_filepaths)\n",
    "        num_training_files = int(split_ratio[0] * num_files)\n",
    "\n",
    "        # Select files for training and validation\n",
    "        training_filepaths = all_filepaths[:num_training_files]\n",
    "        validation_filepaths = all_filepaths[num_training_files:]\n",
    "\n",
    "        # Define the paths for the concatenated files\n",
    "        training_full_path = self._get_output_path('concatenated_training_file')\n",
    "        validation_full_path = self._get_output_path('concatenated_validation_file')\n",
    "\n",
    "        # Concatenate the files\n",
    "        self._concatenate_files(training_filepaths, training_full_path)\n",
    "        self._concatenate_files(validation_filepaths, validation_full_path)\n",
    "\n",
    "        # Create the training file\n",
    "        TrainingFileObject = self.client.files.create(\n",
    "            file=open(training_full_path, \"rb\"),\n",
    "            purpose=\"fine-tune\",\n",
    "        )\n",
    "        training_file_id = TrainingFileObject.id\n",
    "        print(f'Training File ID: {training_file_id}')\n",
    "\n",
    "        # Create the validation file\n",
    "        ValidationFileObject = self.client.files.create(\n",
    "            file=open(validation_full_path, 'rb'),\n",
    "            purpose='fine-tune'\n",
    "        )\n",
    "        validation_file_id = ValidationFileObject.id\n",
    "        print(f'Validation File ID: {validation_file_id}')\n",
    "\n",
    "        # Create the fine-tuning job\n",
    "        fine_tune_params = {\n",
    "            'training_file': training_file_id,\n",
    "            'validation_file': validation_file_id,\n",
    "            'model': \"gpt-3.5-turbo-0125\"\n",
    "        }\n",
    "\n",
    "        if hyperparams:\n",
    "            fine_tune_params['hyperparameters'] = hyperparams\n",
    "\n",
    "        FineTuningJob = self.client.fine_tuning.jobs.create(**fine_tune_params)\n",
    "        print(FineTuningJob)\n",
    "\n",
    "        return FineTuningJob"
   ]
  },
  {
   "cell_type": "code",
   "execution_count": 32,
   "metadata": {},
   "outputs": [],
   "source": [
    "# Initialize the FineTuningManager with the client\n",
    "# DO NOT CREATE A NEW OBJECT\n",
    "manager = FineTuningManager(client)"
   ]
  },
  {
   "cell_type": "code",
   "execution_count": 33,
   "metadata": {},
   "outputs": [
    {
     "name": "stdout",
     "output_type": "stream",
     "text": [
      "Training File ID: file-1bSGl6f9QY0uIb3M861eE4Wl\n",
      "Validation File ID: file-xV2ApQ8rv8wMJxjpMlu1PwD0\n",
      "FineTuningJob(id='ftjob-gkJlfY0lqemFLHv2mNrhaAEQ', created_at=1715835759, error=Error(code=None, message=None, param=None), fine_tuned_model=None, finished_at=None, hyperparameters=Hyperparameters(n_epochs='auto', batch_size='auto', learning_rate_multiplier='auto'), model='gpt-3.5-turbo-0125', object='fine_tuning.job', organization_id='org-6CNZXJUUW37cfOBO7YkjA6mu', result_files=[], status='validating_files', trained_tokens=None, training_file='file-1bSGl6f9QY0uIb3M861eE4Wl', validation_file='file-xV2ApQ8rv8wMJxjpMlu1PwD0', user_provided_suffix=None, seed=1815113034, estimated_finish=None, integrations=[])\n"
     ]
    }
   ],
   "source": [
    "finetuning_job_1 = manager.fine_tune_model(\n",
    "    all_filepaths, \n",
    "    split_ratio=(0.8, 0.2)\n",
    ")"
   ]
  },
  {
   "cell_type": "code",
   "execution_count": 34,
   "metadata": {},
   "outputs": [
    {
     "name": "stdout",
     "output_type": "stream",
     "text": [
      "Training File ID: file-ZkZzyoCIVEFAWsws3THRoeXO\n",
      "Validation File ID: file-yqPZTustCYsI7TnoaRVXkAsB\n",
      "FineTuningJob(id='ftjob-KWVqaHteLvw6bVPZF24IeGst', created_at=1715835778, error=Error(code=None, message=None, param=None), fine_tuned_model=None, finished_at=None, hyperparameters=Hyperparameters(n_epochs=3, batch_size=32, learning_rate_multiplier=0.1), model='gpt-3.5-turbo-0125', object='fine_tuning.job', organization_id='org-6CNZXJUUW37cfOBO7YkjA6mu', result_files=[], status='validating_files', trained_tokens=None, training_file='file-ZkZzyoCIVEFAWsws3THRoeXO', validation_file='file-yqPZTustCYsI7TnoaRVXkAsB', user_provided_suffix=None, seed=1872424921, estimated_finish=None, integrations=[])\n"
     ]
    }
   ],
   "source": [
    "finetuning_job_2 = manager.fine_tune_model(\n",
    "    all_filepaths, \n",
    "    split_ratio=(0.8, 0.2), \n",
    "    hyperparams={\n",
    "        \"n_epochs\": 3, \n",
    "        \"learning_rate_multiplier\": 0.1,\n",
    "        \"batch_size\": 32\n",
    "    }\n",
    ")"
   ]
  },
  {
   "cell_type": "code",
   "execution_count": 35,
   "metadata": {},
   "outputs": [
    {
     "name": "stdout",
     "output_type": "stream",
     "text": [
      "Training File ID: file-1BTie63SwKdy9v59K9HsSQ7H\n",
      "Validation File ID: file-TdKZrkg8PUyUpuQBeRdx65Hx\n",
      "FineTuningJob(id='ftjob-wjUHCVImuJY3G0ITHjkoYrIq', created_at=1715835827, error=Error(code=None, message=None, param=None), fine_tuned_model=None, finished_at=None, hyperparameters=Hyperparameters(n_epochs='auto', batch_size='auto', learning_rate_multiplier='auto'), model='gpt-3.5-turbo-0125', object='fine_tuning.job', organization_id='org-6CNZXJUUW37cfOBO7YkjA6mu', result_files=[], status='validating_files', trained_tokens=None, training_file='file-1BTie63SwKdy9v59K9HsSQ7H', validation_file='file-TdKZrkg8PUyUpuQBeRdx65Hx', user_provided_suffix=None, seed=2033361132, estimated_finish=None, integrations=[])\n"
     ]
    }
   ],
   "source": [
    "finetuning_job_3 = manager.fine_tune_model(\n",
    "    all_filepaths, \n",
    "    split_ratio=(0.7, 0.3) \n",
    ")"
   ]
  },
  {
   "cell_type": "code",
   "execution_count": null,
   "metadata": {},
   "outputs": [],
   "source": [
    "finetuning_job_4 = manager.fine_tune_model(\n",
    "    all_filepaths, \n",
    "    split_ratio=(0.7, 0.3), \n",
    "    hyperparams={\n",
    "        \"n_epochs\": 3, \n",
    "        \"learning_rate_multiplier\": 0.1,\n",
    "        \"batch_size\": 32\n",
    "    }\n",
    ")"
   ]
  }
 ],
 "metadata": {
  "kernelspec": {
   "display_name": "Python 3",
   "language": "python",
   "name": "python3"
  },
  "language_info": {
   "codemirror_mode": {
    "name": "ipython",
    "version": 3
   },
   "file_extension": ".py",
   "mimetype": "text/x-python",
   "name": "python",
   "nbconvert_exporter": "python",
   "pygments_lexer": "ipython3",
   "version": "3.11.9"
  }
 },
 "nbformat": 4,
 "nbformat_minor": 2
}
